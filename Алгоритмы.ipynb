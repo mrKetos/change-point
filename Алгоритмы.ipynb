{
 "cells": [
  {
   "cell_type": "markdown",
   "metadata": {},
   "source": [
    "# Импорты"
   ]
  },
  {
   "cell_type": "code",
   "execution_count": 63,
   "metadata": {},
   "outputs": [],
   "source": [
    "import matplotlib.pyplot as plt\n",
    "from scipy.stats import norm\n",
    "import numpy as np\n",
    "import seaborn as sns\n",
    "from math import exp, inf, tanh\n",
    "from numpy import mean, std\n",
    "from scipy.stats import norm"
   ]
  },
  {
   "cell_type": "markdown",
   "metadata": {},
   "source": [
    "# Модели"
   ]
  },
  {
   "cell_type": "code",
   "execution_count": 64,
   "metadata": {},
   "outputs": [],
   "source": [
    "class ChangePointSequence:\n",
    "    def __init__(self, N, mean, standard_deviation, change_point_position):\n",
    "        self.N = N - 1\n",
    "        self.counter = -1\n",
    "        self.mean = mean\n",
    "        self.standard_deviation = standard_deviation\n",
    "        self.change_point_position = change_point_position\n",
    "        self.sequence = []\n",
    "        \n",
    "    def __iter__(self):\n",
    "        return self\n",
    "    \n",
    "    def __next__(self):\n",
    "        pass\n",
    "\n",
    "    \n",
    "class NoChangePoint(ChangePointSequence):\n",
    "    '''\n",
    "    Потоковая генерация случайной последовательности без разладки.\n",
    "    '''\n",
    "    def __init__(self, N, mean, standard_deviation):\n",
    "        super().__init__(N, mean, standard_deviation, 0)\n",
    "        \n",
    "    def __next__(self):\n",
    "        if self.counter < self.N:\n",
    "            self.counter += 1\n",
    "            new_element_sequence = float(norm.rvs(loc=self.mean, scale=self.standard_deviation, size=1))             \n",
    "            self.sequence.append(new_element_sequence)\n",
    "            return new_element_sequence\n",
    "        else:\n",
    "            raise StopIteration\n",
    "    \n",
    "\n",
    "class ChagePointMean(ChangePointSequence):\n",
    "    '''\n",
    "    Потоковая генерация случайной последовательности с разладкой в М.О.\n",
    "    '''\n",
    "    def __init__(self, N, mean, standard_deviation, change_point_position, mean_change):\n",
    "        super().__init__(N, mean, standard_deviation, change_point_position)\n",
    "        self.mean_change = mean_change\n",
    "        \n",
    "    def __next__(self):\n",
    "        if self.counter < self.N:\n",
    "            \n",
    "            self.counter += 1\n",
    "            \n",
    "            new_element_sequence = float(norm.rvs(loc=self.mean, scale=self.standard_deviation, size=1)) \\\n",
    "            if self.counter <= self.change_point_position \\\n",
    "            else float(norm.rvs(loc=(self.mean+self.mean_change), scale=self.standard_deviation, size=1))\n",
    "            \n",
    "            self.sequence.append(new_element_sequence)\n",
    "            return new_element_sequence\n",
    "        \n",
    "        else:\n",
    "            raise StopIteration\n",
    "            \n",
    "            \n",
    "class ChagePointMeanDynamic(ChangePointSequence):\n",
    "    '''\n",
    "    Потоковая генерация случайной последовательности с разладкой в М.О.\n",
    "    '''\n",
    "    def __init__(self, N, mean, standard_deviation, change_point_position, mean_change):\n",
    "        super().__init__(N, mean, standard_deviation, change_point_position)\n",
    "        self.mean_change = mean_change\n",
    "        \n",
    "    def __next__(self):\n",
    "        if self.counter < self.N:\n",
    "            \n",
    "            self.counter += 1\n",
    "            \n",
    "            new_element_sequence = float(norm.rvs(loc=self.mean, scale=self.standard_deviation, size=1)) \\\n",
    "            if self.counter <= self.change_point_position \\\n",
    "            else float(norm.rvs(loc=(self.mean+self.mean_change*(self.counter-self.change_point_position)),\n",
    "                                scale=self.standard_deviation,\n",
    "                                size=1))\n",
    "            \n",
    "            self.sequence.append(new_element_sequence)\n",
    "            return new_element_sequence\n",
    "            \n",
    "        else:\n",
    "            raise StopIteration\n",
    "            \n",
    "            \n",
    "class ChagePointDispersion(ChangePointSequence):\n",
    "    '''\n",
    "    Потоковая генерация случайной последовательности с разладкой в дисперсии\n",
    "    '''\n",
    "    def __init__(self, N, mean, standard_deviation, change_point_position, standard_deviation_change):\n",
    "        super().__init__(N, mean, standard_deviation, change_point_position)\n",
    "        self.standard_deviation_change = standard_deviation_change\n",
    "        \n",
    "    def __next__(self):\n",
    "        if self.counter < self.N:\n",
    "            \n",
    "            self.counter += 1\n",
    "            \n",
    "            new_element_sequence = float(norm.rvs(loc=self.mean, scale=self.standard_deviation, size=1)) \\\n",
    "            if self.counter <= self.change_point_position \\\n",
    "            else float(norm.rvs(loc=self.mean, scale=(self.standard_deviation+self.standard_deviation_change), size=1))\n",
    "            \n",
    "            self.sequence.append(new_element_sequence)\n",
    "            return new_element_sequence\n",
    "        \n",
    "        else:\n",
    "            raise StopIteration    "
   ]
  },
  {
   "cell_type": "markdown",
   "metadata": {},
   "source": [
    "# Алгоритм ГРШ"
   ]
  },
  {
   "cell_type": "code",
   "execution_count": 14,
   "metadata": {},
   "outputs": [],
   "source": [
    "def algorithm_grsh(seq, g=12, k=100):\n",
    "    R = [0]\n",
    "    \n",
    "    # Заполняем изначальными значениями\n",
    "    while len(sequence.sequence) < k:\n",
    "        new_value = next(sequence)\n",
    "\n",
    "    from numpy import mean, std\n",
    "    m = mean(sequence.sequence)\n",
    "    s = np.std(sequence.sequence)\n",
    "    v = (abs(m) + 2*s) \n",
    "    \n",
    "    for new_value in seq:\n",
    "        Rt = exp(new_value - v) * (1 + R[-1])\n",
    "        if Rt > g:\n",
    "            #print('changepoint', seq.counter - 1, 'Rt =', Rt)\n",
    "            return seq.counter - 1\n",
    "        R.append(Rt)\n",
    "    #print('No change points.')\n",
    "    return -1"
   ]
  },
  {
   "cell_type": "code",
   "execution_count": 19,
   "metadata": {},
   "outputs": [
    {
     "data": {
      "text/plain": [
       "401"
      ]
     },
     "execution_count": 19,
     "metadata": {},
     "output_type": "execute_result"
    }
   ],
   "source": [
    "sequence = ChagePointMeanDynamic(N=1000, mean=1, standard_deviation=1, change_point_position=400, mean_change=1/2)\n",
    "\n",
    "algorithm_grsh(sequence, 12, 100)"
   ]
  },
  {
   "cell_type": "markdown",
   "metadata": {},
   "source": [
    "# Алгоритм Воробейчикова"
   ]
  },
  {
   "cell_type": "code",
   "execution_count": 21,
   "metadata": {},
   "outputs": [],
   "source": [
    "# Алгоритм Воробейчикова\n",
    "def algorithm_change_point_St(seq, difference_step_count=10, t0=300, m=1, N=8):\n",
    "\n",
    "    def z_n(N, m, x, t, t0):\n",
    "        def sign(x):\n",
    "            return 1 if x >= 0 else -1\n",
    "\n",
    "        def y_n(x, t, t0):\n",
    "            return sign(x[t] - x[t-t0])\n",
    "\n",
    "        return N * y_n(x, t, t0) - m\n",
    "    \n",
    "    def dcp(difference_step_count, difference):\n",
    "        if len(difference) < difference_step_count:\n",
    "            return False\n",
    "        previous = None\n",
    "        for i in range(difference_step_count-1):\n",
    "            if difference[-1-i] != difference[-2-i]:\n",
    "                return False\n",
    "        return True\n",
    "    \n",
    "    \n",
    "    l = N + m\n",
    "    Sn = []\n",
    "    t = 0\n",
    "    x = []\n",
    "    difference = []\n",
    "    \n",
    "    while t <= t0:\n",
    "        x.append(next(sequence))\n",
    "        Sn.append(l)\n",
    "        t += 1\n",
    "\n",
    "    for new_value in sequence:\n",
    "        x.append(new_value)\n",
    "        zn = z_n(N, m, x, t, t0)\n",
    "        current_Sn = max(Sn[-1] + zn, l)\n",
    "        difference.append((current_Sn - Sn[-1]))\n",
    "        if dcp(difference_step_count, difference):\n",
    "            return (t, t - difference_step_count)\n",
    "\n",
    "        Sn.append(current_Sn)\n",
    "        t += 1\n",
    "        \n",
    "    return (-1, -1)"
   ]
  },
  {
   "cell_type": "code",
   "execution_count": 23,
   "metadata": {},
   "outputs": [
    {
     "data": {
      "text/plain": [
       "410"
      ]
     },
     "execution_count": 23,
     "metadata": {},
     "output_type": "execute_result"
    }
   ],
   "source": [
    "sequence = ChagePointMean(N=1000, mean=1, standard_deviation=1, change_point_position=400, mean_change=2)\n",
    "\n",
    "algorithm_change_point_St(sequence, 10)[0]"
   ]
  },
  {
   "cell_type": "markdown",
   "metadata": {},
   "source": [
    "# Алгоритм CUSUM bootstrap"
   ]
  },
  {
   "cell_type": "code",
   "execution_count": 75,
   "metadata": {},
   "outputs": [],
   "source": [
    "def algorithm_CUSUM_bootstrap(seq, confidence_level=95, number_bootstrap_samples=1000):\n",
    "    for i in seq:\n",
    "        pass\n",
    "    sequence = seq.sequence\n",
    "    \n",
    "    mean_y = np.mean(sequence)\n",
    "\n",
    "    CUSUM = np.asarray([yi - mean_y for yi in sequence])\n",
    "    CUSUM = np.cumsum(CUSUM)\n",
    "\n",
    "    CUSUM_max = np.max(CUSUM)\n",
    "    CUSUM_min = np.min(CUSUM)\n",
    "    CUSUM_diff = CUSUM_max - CUSUM_min\n",
    "\n",
    "    count = 0\n",
    "    for i in range(number_bootstrap_samples):\n",
    "        new_y = np.random.permutation(sequence)\n",
    "        new_CUSUM = np.asarray([yi - mean_y for yi in new_y])\n",
    "        new_CUSUM = np.cumsum(new_CUSUM)\n",
    "\n",
    "        new_CUSUM_max = np.max(new_CUSUM)\n",
    "        new_CUSUM_min = np.min(new_CUSUM)\n",
    "        new_CUSUM_diff = new_CUSUM_max - new_CUSUM_min\n",
    "        if new_CUSUM_diff < CUSUM_diff:\n",
    "            count += 1\n",
    "\n",
    "    confidence_level_calc = (count / number_bootstrap_samples) * 100\n",
    "    if confidence_level_calc > confidence_level:\n",
    "        abs_CUSUM = np.fabs(CUSUM)\n",
    "        CUSUM_max = np.max(abs_CUSUM)\n",
    "        change_point = int(np.where(abs_CUSUM == CUSUM_max)[0]) \n",
    "#         print('Точка разладки:', change_point)\n",
    "        return change_point\n",
    "    else: \n",
    "        return -1"
   ]
  },
  {
   "cell_type": "code",
   "execution_count": 199,
   "metadata": {},
   "outputs": [
    {
     "data": {
      "text/plain": [
       "276"
      ]
     },
     "execution_count": 199,
     "metadata": {},
     "output_type": "execute_result"
    }
   ],
   "source": [
    "sequence = ChagePointMean(N=800, mean=1, standard_deviation=5, change_point_position=300, mean_change=2)\n",
    "\n",
    "algorithm_CUSUM_bootstrap(sequence, 90, 1000)\n"
   ]
  },
  {
   "cell_type": "markdown",
   "metadata": {},
   "source": [
    "# Алгоритм Боровкова"
   ]
  },
  {
   "cell_type": "code",
   "execution_count": 65,
   "metadata": {},
   "outputs": [],
   "source": [
    "def algorithm_change_point_Q(seq):\n",
    "    for i in seq:\n",
    "        pass\n",
    "    \n",
    "    f_1 = seq.sequence\n",
    "    S_1_m = np.cumsum(f_1)\n",
    "    \n",
    "    f_2 = [y ** 2 for y in f_1]\n",
    "    S_2_m = np.cumsum(f_2)\n",
    "    \n",
    "    Q1 = []\n",
    "    Q2 = []\n",
    "    n = len(f_1)\n",
    "    \n",
    "    for t in range(n):\n",
    "        sum_Q = 0\n",
    "        for i in range(0, t+1):\n",
    "            sum_Q += (f_1[i] - S_1_m[t]/t) ** 2\n",
    "            \n",
    "        for i in range(t+1, n):\n",
    "            sum_Q += (f_1[i] - (S_1_m[n-1]-S_1_m[t])/(n-t)) ** 2\n",
    "        \n",
    "        Q1.append(sum_Q)\n",
    "        \n",
    "    for t in range(n):\n",
    "        sum_Q = 0\n",
    "        for i in range(0, t+1):\n",
    "            sum_Q += (f_2[i] - S_2_m[t]/t) ** 2\n",
    "            \n",
    "        for i in range(t+1, n):\n",
    "            sum_Q += (f_2[i] - (S_2_m[n-1]-S_2_m[t])/(n-t)) ** 2\n",
    "        \n",
    "        Q2.append(sum_Q)\n",
    "        \n",
    "    Q = [q1+q2 for q1,q2 in zip(Q1,Q2)]\n",
    "    \n",
    "    min_Q = np.min(Q)\n",
    "    change_point = int(np.where(Q == min_Q)[0]) # +1 ?\n",
    "    return change_point\n",
    "    "
   ]
  },
  {
   "cell_type": "code",
   "execution_count": 102,
   "metadata": {},
   "outputs": [
    {
     "name": "stderr",
     "output_type": "stream",
     "text": [
      "C:\\Users\\TryUserPWNZ\\Anaconda3\\lib\\site-packages\\ipykernel_launcher.py:18: RuntimeWarning: divide by zero encountered in double_scalars\n",
      "C:\\Users\\TryUserPWNZ\\Anaconda3\\lib\\site-packages\\ipykernel_launcher.py:28: RuntimeWarning: divide by zero encountered in double_scalars\n"
     ]
    },
    {
     "name": "stdout",
     "output_type": "stream",
     "text": [
      "Wall time: 1.61 s\n"
     ]
    },
    {
     "data": {
      "text/plain": [
       "475"
      ]
     },
     "execution_count": 102,
     "metadata": {},
     "output_type": "execute_result"
    }
   ],
   "source": [
    "%%time\n",
    "sequence = ChagePointMeanDynamic(N=600, mean=1, standard_deviation=1, change_point_position=300, mean_change=4)\n",
    "\n",
    "algorithm_change_point_Q(sequence)"
   ]
  },
  {
   "cell_type": "markdown",
   "metadata": {},
   "source": [
    "# Алгоритм, основанный на информационном подходе"
   ]
  },
  {
   "cell_type": "code",
   "execution_count": 61,
   "metadata": {},
   "outputs": [],
   "source": [
    "def algorithm_fa(seq, type_cp):\n",
    "    for i in seq:\n",
    "        pass\n",
    "    sequence = seq.sequence\n",
    "    \n",
    "    n = len(sequence)\n",
    "    tau = np.arange(1,n)\n",
    "    lmbd = 2*np.log(n) #Bayesian Information Criterion\n",
    "    eps = 1.e-8 #to avoid zeros in denominator\n",
    "    \n",
    "    if type_cp ==\"mean\":\n",
    "        mu0 = np.mean(sequence)\n",
    "        s0 = np.sum((sequence-mu0)**2)\n",
    "        s1 = np.asarray([np.sum((sequence[0:i]-np.mean(sequence[0:i]))**2) for i in range(1,n)])\n",
    "        s2 = np.asarray([np.sum((sequence[i:]-np.mean(sequence[i:]))**2) for i in range(1,n)])\n",
    "        R  = s0-s1-s2\n",
    "        G  = np.max(R)\n",
    "        taustar = int(np.where(R==G)[0]) \n",
    "        sd1 = np.std(sequence[0:taustar-1])\n",
    "        sd2 = np.std(sequence[taustar-1:])\n",
    "        var = ( taustar*sd1**2 + (n-taustar)*sd2**2 ) / n\n",
    "        criterion = lmbd # var*lmbd\n",
    "         \n",
    "    elif type_cp ==\"var\":\n",
    "        std0 = np.std(sequence)\n",
    "        std1 = np.asarray([np.std(sequence[0:i]) for i in range(1,n)],dtype=float) + eps\n",
    "        std2 = np.asarray([np.std(sequence[i:]) for i in range(1,n)],dtype=float) + eps\n",
    "        R = n*np.log(std0) - tau*np.log(std1) - (n-tau)*np.log(std2)\n",
    "        G  = np.max(R)\n",
    "        taustar = int(np.where(R==G)[0])\n",
    "        criterion = lmbd\n",
    "        \n",
    "    if 2*G >= criterion:\n",
    "        return taustar\n",
    "    else:\n",
    "        return -1\n"
   ]
  }
 ],
 "metadata": {
  "kernelspec": {
   "display_name": "Python 3",
   "language": "python",
   "name": "python3"
  },
  "language_info": {
   "codemirror_mode": {
    "name": "ipython",
    "version": 3
   },
   "file_extension": ".py",
   "mimetype": "text/x-python",
   "name": "python",
   "nbconvert_exporter": "python",
   "pygments_lexer": "ipython3",
   "version": "3.7.3"
  }
 },
 "nbformat": 4,
 "nbformat_minor": 2
}
